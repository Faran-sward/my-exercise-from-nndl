{
 "cells": [
  {
   "cell_type": "markdown",
   "metadata": {},
   "source": [
    "## 准备数据"
   ]
  },
  {
   "cell_type": "code",
   "execution_count": 25,
   "metadata": {},
   "outputs": [],
   "source": [
    "import os\n",
    "import numpy as np\n",
    "import tensorflow as tf\n",
    "from tensorflow import keras\n",
    "from tensorflow.keras import layers, optimizers, datasets\n",
    "\n",
    "os.environ['TF_CPP_MIN_LOG_LEVEL'] = '2'  # or any {'0', '1', '2'}\n",
    "\n",
    "def mnist_dataset():\n",
    "    (x, y), (x_test, y_test) = datasets.mnist.load_data()\n",
    "    #normalize\n",
    "    x = x/255.0\n",
    "    x_test = x_test/255.0\n",
    "    \n",
    "    return (x, y), (x_test, y_test)"
   ]
  },
  {
   "cell_type": "code",
   "execution_count": 26,
   "metadata": {},
   "outputs": [
    {
     "name": "stdout",
     "output_type": "stream",
     "text": [
      "[(1, 'a'), (2, 'b'), (3, 'c'), (4, 'd')]\n"
     ]
    }
   ],
   "source": [
    "print(list(zip([1, 2, 3, 4], ['a', 'b', 'c', 'd'])))"
   ]
  },
  {
   "cell_type": "markdown",
   "metadata": {},
   "source": [
    "## 建立模型"
   ]
  },
  {
   "cell_type": "code",
   "execution_count": 28,
   "metadata": {},
   "outputs": [],
   "source": [
    "class myModel:\n",
    "    def __init__(self):\n",
    "        ####################\n",
    "        '''声明模型对应的参数'''\n",
    "        # parameters are defined in the function train_one_step: W1, b1, W2, b2\n",
    "        # input layer size: 28*28\n",
    "        # output layer size: 10(categories)\n",
    "        # hide layer size: 128\n",
    "        \n",
    "#         self.W1 = tf.Variable(shape=[28*28, 128], \n",
    "#                               initial_value=tf.random.uniform(shape=[28*28, 128]))\n",
    "#         self.b1 = tf.Variable(shape=[128],\n",
    "#                               initial_value=tf.zeros(128))\n",
    "#         self.W2 = tf.Variable(shape=[128, 10],\n",
    "#                               initial_value=tf.random.uniform(shape=[128, 10]))\n",
    "#         self.b2 = tf.Variable(shape=[10], \n",
    "#                               initial_value=tf.zeros(10))\n",
    "        \n",
    "        self.W1 = tf.Variable(shape=[28*28, 128], \n",
    "                              initial_value=tf.random.uniform(shape=[28*28, 128],minval=-0.1, maxval=0.1))\n",
    "        self.b1 = tf.Variable(shape=[128], initial_value=tf.zeros(128))\n",
    "        self.W2 = tf.Variable(shape=[128, 10], \n",
    "                              initial_value=tf.random.uniform(shape=[128, 10],minval=-0.1, maxval=0.1))\n",
    "        self.b2 = tf.Variable(shape=[10], initial_value=tf.zeros(10))\n",
    "        ####################\n",
    "    def __call__(self, x):\n",
    "        ####################\n",
    "        '''实现模型函数体，返回未归一化的logits'''\n",
    "        flat_x = tf.reshape(x, shape=[-1, 28*28])  # to match matrix multiply\n",
    "#         h = tf.sigmoid(tf.matmul(flat_x, self.W1) + self.b1) # sigmoid\n",
    "#         h = tf.nn.relu(tf.matmul(flat_x, self.W1) + self.b1) # ReLU\n",
    "        h = tf.tanh(tf.matmul(flat_x, self.W1) + self.b1) # tanh\n",
    "        logits = tf.matmul(h, self.W2) + self.b2\n",
    "        ####################\n",
    "        return logits\n",
    "        \n",
    "model = myModel()\n",
    "\n",
    "optimizer = optimizers.Adam()"
   ]
  },
  {
   "cell_type": "markdown",
   "metadata": {},
   "source": [
    "## 计算 loss"
   ]
  },
  {
   "cell_type": "code",
   "execution_count": 29,
   "metadata": {},
   "outputs": [],
   "source": [
    "@tf.function\n",
    "def compute_loss(logits, labels):\n",
    "    return tf.reduce_mean(\n",
    "        tf.nn.sparse_softmax_cross_entropy_with_logits(\n",
    "            logits=logits, labels=labels))\n",
    "\n",
    "@tf.function\n",
    "def compute_accuracy(logits, labels):\n",
    "    predictions = tf.argmax(logits, axis=1)\n",
    "    return tf.reduce_mean(tf.cast(tf.equal(predictions, labels), tf.float32))\n",
    "\n",
    "@tf.function\n",
    "def train_one_step(model, optimizer, x, y):\n",
    "    with tf.GradientTape() as tape:\n",
    "        logits = model(x)\n",
    "        loss = compute_loss(logits, y)\n",
    "\n",
    "    # compute gradient\n",
    "    trainable_vars = [model.W1, model.W2, model.b1, model.b2]\n",
    "    grads = tape.gradient(loss, trainable_vars)\n",
    "    for g, v in zip(grads, trainable_vars):\n",
    "        v.assign_sub(0.01*g)\n",
    "\n",
    "    accuracy = compute_accuracy(logits, y)\n",
    "\n",
    "    # loss and accuracy is scalar tensor\n",
    "    return loss, accuracy\n",
    "\n",
    "@tf.function\n",
    "def test(model, x, y):\n",
    "    logits = model(x)\n",
    "    loss = compute_loss(logits, y)\n",
    "    accuracy = compute_accuracy(logits, y)\n",
    "    return loss, accuracy"
   ]
  },
  {
   "cell_type": "markdown",
   "metadata": {},
   "source": [
    "## 实际训练"
   ]
  },
  {
   "cell_type": "code",
   "execution_count": 30,
   "metadata": {},
   "outputs": [
    {
     "name": "stdout",
     "output_type": "stream",
     "text": [
      "epoch 0 : loss 2.3664753 ; accuracy 0.09245\n",
      "epoch 1 : loss 2.3594947 ; accuracy 0.09723333\n",
      "epoch 2 : loss 2.3525739 ; accuracy 0.102016665\n",
      "epoch 3 : loss 2.345711 ; accuracy 0.10733333\n",
      "epoch 4 : loss 2.3389041 ; accuracy 0.11245\n",
      "epoch 5 : loss 2.332152 ; accuracy 0.1177\n",
      "epoch 6 : loss 2.325452 ; accuracy 0.12285\n",
      "epoch 7 : loss 2.3188035 ; accuracy 0.1278\n",
      "epoch 8 : loss 2.3122048 ; accuracy 0.13301666\n",
      "epoch 9 : loss 2.3056545 ; accuracy 0.13805\n",
      "epoch 10 : loss 2.299151 ; accuracy 0.14341667\n",
      "epoch 11 : loss 2.2926927 ; accuracy 0.14878333\n",
      "epoch 12 : loss 2.2862792 ; accuracy 0.15433334\n",
      "epoch 13 : loss 2.2799087 ; accuracy 0.15995\n",
      "epoch 14 : loss 2.2735798 ; accuracy 0.16546667\n",
      "epoch 15 : loss 2.2672923 ; accuracy 0.17085\n",
      "epoch 16 : loss 2.2610438 ; accuracy 0.17625\n",
      "epoch 17 : loss 2.2548342 ; accuracy 0.18251666\n",
      "epoch 18 : loss 2.2486622 ; accuracy 0.18905\n",
      "epoch 19 : loss 2.242527 ; accuracy 0.19465\n",
      "epoch 20 : loss 2.2364273 ; accuracy 0.20095\n",
      "epoch 21 : loss 2.2303624 ; accuracy 0.20726667\n",
      "epoch 22 : loss 2.2243319 ; accuracy 0.21383333\n",
      "epoch 23 : loss 2.2183342 ; accuracy 0.21998334\n",
      "epoch 24 : loss 2.2123687 ; accuracy 0.22665\n",
      "epoch 25 : loss 2.206435 ; accuracy 0.23311667\n",
      "epoch 26 : loss 2.2005317 ; accuracy 0.24081667\n",
      "epoch 27 : loss 2.1946585 ; accuracy 0.24746667\n",
      "epoch 28 : loss 2.1888149 ; accuracy 0.25528333\n",
      "epoch 29 : loss 2.183 ; accuracy 0.26256666\n",
      "epoch 30 : loss 2.1772127 ; accuracy 0.26956666\n",
      "epoch 31 : loss 2.1714532 ; accuracy 0.27705\n",
      "epoch 32 : loss 2.1657202 ; accuracy 0.285\n",
      "epoch 33 : loss 2.1600134 ; accuracy 0.29313335\n",
      "epoch 34 : loss 2.1543326 ; accuracy 0.30081666\n",
      "epoch 35 : loss 2.1486766 ; accuracy 0.30863333\n",
      "epoch 36 : loss 2.1430454 ; accuracy 0.31661665\n",
      "epoch 37 : loss 2.137438 ; accuracy 0.32471666\n",
      "epoch 38 : loss 2.131854 ; accuracy 0.33258334\n",
      "epoch 39 : loss 2.1262934 ; accuracy 0.34018335\n",
      "epoch 40 : loss 2.1207554 ; accuracy 0.34763333\n",
      "epoch 41 : loss 2.1152396 ; accuracy 0.35538334\n",
      "epoch 42 : loss 2.1097455 ; accuracy 0.36296666\n",
      "epoch 43 : loss 2.1042726 ; accuracy 0.3698\n",
      "epoch 44 : loss 2.098821 ; accuracy 0.37698334\n",
      "epoch 45 : loss 2.0933895 ; accuracy 0.38448334\n",
      "epoch 46 : loss 2.0879786 ; accuracy 0.3919\n",
      "epoch 47 : loss 2.0825872 ; accuracy 0.39861667\n",
      "epoch 48 : loss 2.0772157 ; accuracy 0.40526667\n",
      "epoch 49 : loss 2.071863 ; accuracy 0.41171667\n",
      "test loss 2.0641017 ; accuracy 0.4188\n"
     ]
    }
   ],
   "source": [
    "train_data, test_data = mnist_dataset()\n",
    "for epoch in range(50):\n",
    "    loss, accuracy = train_one_step(model, optimizer, \n",
    "                                    tf.constant(train_data[0], dtype=tf.float32), \n",
    "                                    tf.constant(train_data[1], dtype=tf.int64))\n",
    "    print('epoch', epoch, ': loss', loss.numpy(), '; accuracy', accuracy.numpy())\n",
    "loss, accuracy = test(model, \n",
    "                      tf.constant(test_data[0], dtype=tf.float32), \n",
    "                      tf.constant(test_data[1], dtype=tf.int64))\n",
    "\n",
    "print('test loss', loss.numpy(), '; accuracy', accuracy.numpy())"
   ]
  },
  {
   "cell_type": "code",
   "execution_count": null,
   "metadata": {},
   "outputs": [],
   "source": []
  }
 ],
 "metadata": {
  "kernelspec": {
   "display_name": "tensorflow2.2",
   "language": "python",
   "name": "tensorflow2.2"
  },
  "language_info": {
   "codemirror_mode": {
    "name": "ipython",
    "version": 3
   },
   "file_extension": ".py",
   "mimetype": "text/x-python",
   "name": "python",
   "nbconvert_exporter": "python",
   "pygments_lexer": "ipython3",
   "version": "3.8.18"
  }
 },
 "nbformat": 4,
 "nbformat_minor": 2
}
